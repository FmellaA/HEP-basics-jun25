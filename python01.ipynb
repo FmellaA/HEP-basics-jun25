{
 "cells": [
  {
   "cell_type": "markdown",
   "id": "c1db7ced",
   "metadata": {},
   "source": [
    "## 05, python \n",
    "* Most of the things will be on the python folder, it's pretty self-explanatory, it was a general review on everything basic on python, specifically ... yeah. If you have any problem or questions on anything you can check specifically with is \n",
    "\n",
    "* __init__ (values): \n",
    "we can also mix it with functions **Check /python/classes.py**"
   ]
  },
  {
   "cell_type": "code",
   "execution_count": 2,
   "id": "fab8aa1b",
   "metadata": {},
   "outputs": [
    {
     "name": "stdout",
     "output_type": "stream",
     "text": [
      "1\n",
      "2\n",
      "3\n"
     ]
    }
   ],
   "source": [
    "#Looping \n",
    "for a in 1,2,3: \n",
    "    print(a)"
   ]
  },
  {
   "cell_type": "code",
   "execution_count": 10,
   "id": "e9130369",
   "metadata": {},
   "outputs": [
    {
     "name": "stdout",
     "output_type": "stream",
     "text": [
      "0\n",
      "1\n",
      "2\n",
      "3\n",
      "4\n"
     ]
    },
    {
     "data": {
      "text/plain": [
       "[0, 1, 8, 27, 64]"
      ]
     },
     "execution_count": 10,
     "metadata": {},
     "output_type": "execute_result"
    }
   ],
   "source": [
    "# on fuctions, inline methods \n",
    "for name in list(map(str, range(5))):\n",
    "    print(name)\n",
    "\n",
    "#this map lets you :) \n",
    "\n",
    "list(map(lambda x: x*x*x, range(5)))\n",
    "\n"
   ]
  },
  {
   "cell_type": "code",
   "execution_count": 12,
   "id": "e453344d",
   "metadata": {},
   "outputs": [],
   "source": [
    "import numpy as np\n",
    "\n",
    "def pil(px,py,pz,E):\n",
    "    return {'px':px,\n",
    "           'py':py, \n",
    "           'pz':pz,\n",
    "           'E':E}\n",
    "    \n",
    "\n",
    "def calc_mass(particle):\n",
    "    momentum = particle['px'] ** 2 + particle['py'] ** 2 + particle['pz'] ** 2\n",
    "    return np.sqrt(particle['E'] ** 2 - momentum)"
   ]
  },
  {
   "cell_type": "code",
   "execution_count": 15,
   "id": "596757bb",
   "metadata": {},
   "outputs": [
    {
     "name": "stdout",
     "output_type": "stream",
     "text": [
      "3\n"
     ]
    },
    {
     "data": {
      "text/plain": [
       "['__abs__',\n",
       " '__add__',\n",
       " '__and__',\n",
       " '__bool__',\n",
       " '__ceil__',\n",
       " '__class__',\n",
       " '__delattr__',\n",
       " '__dir__',\n",
       " '__divmod__',\n",
       " '__doc__',\n",
       " '__eq__',\n",
       " '__float__',\n",
       " '__floor__',\n",
       " '__floordiv__',\n",
       " '__format__',\n",
       " '__ge__',\n",
       " '__getattribute__',\n",
       " '__getnewargs__',\n",
       " '__getstate__',\n",
       " '__gt__',\n",
       " '__hash__',\n",
       " '__index__',\n",
       " '__init__',\n",
       " '__init_subclass__',\n",
       " '__int__',\n",
       " '__invert__',\n",
       " '__le__',\n",
       " '__lshift__',\n",
       " '__lt__',\n",
       " '__mod__',\n",
       " '__mul__',\n",
       " '__ne__',\n",
       " '__neg__',\n",
       " '__new__',\n",
       " '__or__',\n",
       " '__pos__',\n",
       " '__pow__',\n",
       " '__radd__',\n",
       " '__rand__',\n",
       " '__rdivmod__',\n",
       " '__reduce__',\n",
       " '__reduce_ex__',\n",
       " '__repr__',\n",
       " '__rfloordiv__',\n",
       " '__rlshift__',\n",
       " '__rmod__',\n",
       " '__rmul__',\n",
       " '__ror__',\n",
       " '__round__',\n",
       " '__rpow__',\n",
       " '__rrshift__',\n",
       " '__rshift__',\n",
       " '__rsub__',\n",
       " '__rtruediv__',\n",
       " '__rxor__',\n",
       " '__setattr__',\n",
       " '__sizeof__',\n",
       " '__str__',\n",
       " '__sub__',\n",
       " '__subclasshook__',\n",
       " '__truediv__',\n",
       " '__trunc__',\n",
       " '__xor__',\n",
       " 'as_integer_ratio',\n",
       " 'bit_count',\n",
       " 'bit_length',\n",
       " 'conjugate',\n",
       " 'denominator',\n",
       " 'from_bytes',\n",
       " 'imag',\n",
       " 'numerator',\n",
       " 'real',\n",
       " 'to_bytes']"
      ]
     },
     "execution_count": 15,
     "metadata": {},
     "output_type": "execute_result"
    }
   ],
   "source": [
    "############c lases \n",
    "print((1).__add__(2))\n",
    "dir(1)"
   ]
  },
  {
   "cell_type": "markdown",
   "id": "3545d753",
   "metadata": {},
   "source": [
    "so classes, we have \n",
    "\n",
    "__ repr_ _ gives the developer the info of the object\n",
    "classes are like to define the type of each characteristic of the object. \n",
    "\n",
    "theres like a method, if it doesnt have it, it goes up (to its parents). \n",
    "super gives us the parent of better particle, so we rewrite the _init _ of the betterparticle with the other. \n",
    "\n",
    "type and _ _class __ gives us the class of the object (.mro the method, then we look back!!!!)\n"
   ]
  },
  {
   "cell_type": "markdown",
   "id": "4e2966bd",
   "metadata": {},
   "source": [
    "## 06, python - 11:00-12:00 \n",
    "\n",
    "**DEBUGGING** \n",
    "\n",
    "\"Errors should never pass silently unless explicitly silenced\"\n",
    "* remember to write code in a way that you can make sure where is the error. "
   ]
  },
  {
   "cell_type": "code",
   "execution_count": 37,
   "id": "7884c741",
   "metadata": {},
   "outputs": [
    {
     "name": "stdout",
     "output_type": "stream",
     "text": [
      "3.0\n",
      "[5.0, 6.0]\n",
      "12\n"
     ]
    }
   ],
   "source": [
    "import time\n",
    "\n",
    "a,b,c,d = 3*np.ones(4) + range(4)\n",
    "print(a)\n",
    "\n",
    "\n",
    "a,b,*c = 3*np.ones(4) + range(4)\n",
    "print(c) #guarda el resto de los valores\n",
    "\n",
    "#you cannot write syntax with multiple starred variables: *f, *h =a,b,c,d\n",
    "\n",
    "#we can also use this to write dictionaries: \n",
    "\n",
    "dict1 = {'a':1,'b':2}\n",
    "dict2 = {'c':4, **dict1} #we add the other dict into this one\n",
    "\n",
    "###\n",
    "\n",
    "#args se refieren a argumentos \"posicionales\", pues sabemos a que variable se refiere por su posicion en la función\n",
    "#kwargs se refiere a los argumentos que sabemos que sob debido a que son marcados así. estos siempre deben ir al final para evitar confusiones y que una variable tenga varios valores \n",
    "\n",
    "q = lambda a,b,*,v=9 : a+b+v \n",
    "print(q(1,2))\n",
    "\n",
    "############3\n",
    "#Context manager\n",
    "\n"
   ]
  },
  {
   "cell_type": "markdown",
   "id": "b961e1ed",
   "metadata": {},
   "source": [
    "## Context Manager \n",
    "example: range(0,5) its an iterator, not a list!!! but it still can work as lists. \n",
    "\n"
   ]
  },
  {
   "cell_type": "code",
   "execution_count": null,
   "id": "12a2c586",
   "metadata": {},
   "outputs": [],
   "source": [
    "import contextlib\n",
    "\n",
    "#yield sirve para poner cosas entremedio de las funciones, ejemplo queremos abrir un documento para hacerle x cosas y despues queremos cerrarlo, asi hacemos la función: \n",
    "\n",
    "def myopen(f,mode): \n",
    "    opened = open(f,mode)\n",
    "    yield opened #aca nos lo deja abierto para usarlo con \"with\"\n",
    "    closed = close(f)\n",
    "\n"
   ]
  }
 ],
 "metadata": {
  "kernelspec": {
   "display_name": "base",
   "language": "python",
   "name": "python3"
  },
  "language_info": {
   "codemirror_mode": {
    "name": "ipython",
    "version": 3
   },
   "file_extension": ".py",
   "mimetype": "text/x-python",
   "name": "python",
   "nbconvert_exporter": "python",
   "pygments_lexer": "ipython3",
   "version": "3.11.10"
  }
 },
 "nbformat": 4,
 "nbformat_minor": 5
}
