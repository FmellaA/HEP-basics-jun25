{
 "cells": [
  {
   "cell_type": "markdown",
   "id": "b79fedf1",
   "metadata": {},
   "source": [
    "## blablabal \n",
    "\n",
    "uprooot has more to do with python rather than root, it rearranges data so we have it in a different more convenient way. \n",
    "\n",
    "you can see inside a file with file.keys(), file.classnames()\n",
    "\n",
    "and with uproot we can use .to_hist().plot()\n",
    "\n",
    "* for uproot to interpret it, th object must have an interpretation (.interpretation) so it knows exactly what it is and how to interpret it. \n",
    "\n",
    "* writing data in uproot is harder than read it, nevertheless we can do a :"
   ]
  },
  {
   "cell_type": "code",
   "execution_count": null,
   "id": "5c091193",
   "metadata": {},
   "outputs": [
    {
     "ename": "ModuleNotFoundError",
     "evalue": "No module named 'uproot'",
     "output_type": "error",
     "traceback": [
      "\u001b[1;31m---------------------------------------------------------------------------\u001b[0m",
      "\u001b[1;31mModuleNotFoundError\u001b[0m                       Traceback (most recent call last)",
      "Cell \u001b[1;32mIn[1], line 1\u001b[0m\n\u001b[1;32m----> 1\u001b[0m \u001b[38;5;28;01mimport\u001b[39;00m \u001b[38;5;21;01muproot\u001b[39;00m\n\u001b[0;32m      2\u001b[0m output1 \u001b[38;5;241m=\u001b[39m uproot\u001b[38;5;241m.\u001b[39mrecreate(\u001b[38;5;124m\"\u001b[39m\u001b[38;5;124mcompletely-new-file.root\u001b[39m\u001b[38;5;124m\"\u001b[39m)\n",
      "\u001b[1;31mModuleNotFoundError\u001b[0m: No module named 'uproot'"
     ]
    }
   ],
   "source": [
    "import uproot\n",
    "output1 = uproot.recreate(\"completely-new-file.root\") # new file \n",
    "\n",
    "output1[\"some_string\"] = \"This will be a TObjString.\"\n",
    "\n",
    "### writing trees \n",
    "import numpy as np\n",
    "\n",
    "output1[\"tree1\"] = {\n",
    "    \"x\": np.random.randint(0, 10, 1_000_000),\n",
    "    \"y\": np.random.normal(0, 1, 1_000_000),\n",
    "}"
   ]
  },
  {
   "cell_type": "markdown",
   "id": "67741718",
   "metadata": {},
   "source": [
    "on the other hand, to read TTrees, we have to be careful with data cuz it's often a LOT. so we have to make sure to go entry_min y entry_max. \n",
    "\n",
    "To filter out,we have to do like other examples, define which varibles to filter, and apply filters into a for cicle \n",
    "\n",
    "* akward arrays are like numpy arrays but with variable lengths \n",
    "* we use numpy, matplotlib, python and others to do histogramming\n",
    "\n",
    "**we complement with the uproot-blabla.ipynb**"
   ]
  }
 ],
 "metadata": {
  "kernelspec": {
   "display_name": "base",
   "language": "python",
   "name": "python3"
  },
  "language_info": {
   "codemirror_mode": {
    "name": "ipython",
    "version": 3
   },
   "file_extension": ".py",
   "mimetype": "text/x-python",
   "name": "python",
   "nbconvert_exporter": "python",
   "pygments_lexer": "ipython3",
   "version": "3.11.10"
  }
 },
 "nbformat": 4,
 "nbformat_minor": 5
}
